{
 "cells": [
  {
   "cell_type": "code",
   "execution_count": 14,
   "id": "ed1b8082",
   "metadata": {},
   "outputs": [],
   "source": [
    "import pandas as pd\n",
    "import numpy as np\n",
    "import netCDF4 as nc\n",
    "from zipfile import ZipFile\n",
    "import matplotlib.pyplot as plt"
   ]
  },
  {
   "cell_type": "code",
   "execution_count": 108,
   "id": "faeebcf1",
   "metadata": {},
   "outputs": [],
   "source": [
    "import os\n",
    "os.environ['PROJ_LIB'] = r'/home/ibrahim/anaconda3/pkgs/proj4-5.2.0- he6710b0_1/share/proj'\n",
    "from mpl_toolkits.basemap import Basemap"
   ]
  },
  {
   "cell_type": "code",
   "execution_count": 11,
   "id": "c60ec038",
   "metadata": {},
   "outputs": [
    {
     "name": "stdout",
     "output_type": "stream",
     "text": [
      "2022-05-04 17:38:58,228 INFO Welcome to the CDS\n",
      "2022-05-04 17:38:58,229 INFO Sending request to https://cds.climate.copernicus.eu/api/v2/resources/reanalysis-era5-single-levels-monthly-means\n",
      "2022-05-04 17:38:58,412 INFO Request is completed\n",
      "2022-05-04 17:38:58,412 INFO Downloading https://download-0003-clone.copernicus-climate.eu/cache-compute-0003/cache/data7/adaptor.mars.internal-1651630046.1431956-11340-16-ce9a9c4d-2eaa-48d6-9175-091861b7886c.nc to cds_climate.nc (30.7K)\n",
      "2022-05-04 17:38:58,923 INFO Download rate 60.2K/s                              \n",
      "2022-05-04 17:38:59,029 INFO Welcome to the CDS\n",
      "2022-05-04 17:38:59,030 INFO Sending request to https://cds.climate.copernicus.eu/api/v2/resources/satellite-fire-burned-area\n",
      "2022-05-04 17:38:59,195 INFO Downloading https://download-0015-clone.copernicus-climate.eu/cache-compute-0015/cache/data6/dataset-satellite-fire-burned-area-dc1bf2a8-7408-41de-b4d4-692b9fbc3db6.zip to BA2017.zip (23.4M)\n",
      "2022-05-04 17:39:04,741 INFO Download rate 4.2M/s                               \n",
      "2022-05-04 17:39:04,850 INFO Welcome to the CDS\n",
      "2022-05-04 17:39:04,850 INFO Sending request to https://cds.climate.copernicus.eu/api/v2/resources/satellite-fire-burned-area\n",
      "2022-05-04 17:39:05,068 INFO Downloading https://download-0014-clone.copernicus-climate.eu/cache-compute-0014/cache/data0/dataset-satellite-fire-burned-area-e715a4d6-241c-4ab7-a63e-273895af9aab.zip to BA2018.zip (23.1M)\n",
      "2022-05-04 17:39:09,264 INFO Download rate 5.5M/s                               \n",
      "2022-05-04 17:39:09,470 INFO Welcome to the CDS\n",
      "2022-05-04 17:39:09,470 INFO Sending request to https://cds.climate.copernicus.eu/api/v2/resources/satellite-fire-burned-area\n",
      "2022-05-04 17:39:09,779 INFO Downloading https://download-0006-clone.copernicus-climate.eu/cache-compute-0006/cache/data3/dataset-satellite-fire-burned-area-b7a6da05-e092-4401-bb3c-7723762a1eb8.zip to BA2019.zip (19.9M)\n",
      "2022-05-04 17:39:14,284 INFO Download rate 4.4M/s                               \n"
     ]
    }
   ],
   "source": [
    "!python3 data_load_script.py"
   ]
  },
  {
   "cell_type": "code",
   "execution_count": 35,
   "id": "95704101",
   "metadata": {},
   "outputs": [],
   "source": [
    "years = ['2017', '2018', '2019']\n",
    "listOfFileNames =[]\n",
    "for year in years:\n",
    "    with ZipFile('BA{year}.zip'.format(year=year), 'r') as zipObj:\n",
    "        listOfFileNames+=zipObj.namelist()\n",
    "        #zipObj.extractall()\n"
   ]
  },
  {
   "cell_type": "code",
   "execution_count": 51,
   "id": "25debe0f",
   "metadata": {},
   "outputs": [],
   "source": [
    "listOfFileNames.sort(key=lambda x: int(x[:6]))"
   ]
  },
  {
   "cell_type": "code",
   "execution_count": 41,
   "id": "daf1afda",
   "metadata": {},
   "outputs": [],
   "source": [
    "def dataloader(variables):\n",
    "    BA_dataset = []\n",
    "    for file in listOfFileNames:\n",
    "        object_netCDF = nc.Dataset(file,'r')\n",
    "        band_netCDF = object_netCDF.variables\n",
    "        month_data = []\n",
    "        for variable in variables:\n",
    "            month_data.append(np.array(band_netCDF[variable]))\n",
    "        BA_dataset.append(month_data)\n",
    "    return np.array(BA_dataset)"
   ]
  },
  {
   "cell_type": "code",
   "execution_count": 46,
   "id": "0d4c276d",
   "metadata": {},
   "outputs": [],
   "source": [
    "object_cds = nc.Dataset(\"cds_climate.nc\",\"r\")\n",
    "band_cds = object_cds.variables"
   ]
  },
  {
   "cell_type": "code",
   "execution_count": 126,
   "id": "478dfd5b",
   "metadata": {},
   "outputs": [
    {
     "data": {
      "text/plain": [
       "{'longitude': <class 'netCDF4._netCDF4.Variable'>\n",
       " float32 longitude(longitude)\n",
       "     units: degrees_east\n",
       "     long_name: longitude\n",
       " unlimited dimensions: \n",
       " current shape = (9,)\n",
       " filling on, default _FillValue of 9.969209968386869e+36 used,\n",
       " 'latitude': <class 'netCDF4._netCDF4.Variable'>\n",
       " float32 latitude(latitude)\n",
       "     units: degrees_north\n",
       "     long_name: latitude\n",
       " unlimited dimensions: \n",
       " current shape = (9,)\n",
       " filling on, default _FillValue of 9.969209968386869e+36 used,\n",
       " 'time': <class 'netCDF4._netCDF4.Variable'>\n",
       " int32 time(time)\n",
       "     units: hours since 1900-01-01 00:00:00.0\n",
       "     long_name: time\n",
       "     calendar: gregorian\n",
       " unlimited dimensions: \n",
       " current shape = (36,)\n",
       " filling on, default _FillValue of -2147483647 used,\n",
       " 'u10': <class 'netCDF4._netCDF4.Variable'>\n",
       " int16 u10(time, latitude, longitude)\n",
       "     scale_factor: 0.00012622853800198052\n",
       "     add_offset: 2.1092613409922296\n",
       "     _FillValue: -32767\n",
       "     missing_value: -32767\n",
       "     units: m s**-1\n",
       "     long_name: 10 metre U wind component\n",
       " unlimited dimensions: \n",
       " current shape = (36, 9, 9)\n",
       " filling on,\n",
       " 'v10': <class 'netCDF4._netCDF4.Variable'>\n",
       " int16 v10(time, latitude, longitude)\n",
       "     scale_factor: 0.0001568973902105574\n",
       "     add_offset: -1.3571117014111698\n",
       "     _FillValue: -32767\n",
       "     missing_value: -32767\n",
       "     units: m s**-1\n",
       "     long_name: 10 metre V wind component\n",
       " unlimited dimensions: \n",
       " current shape = (36, 9, 9)\n",
       " filling on,\n",
       " 'd2m': <class 'netCDF4._netCDF4.Variable'>\n",
       " int16 d2m(time, latitude, longitude)\n",
       "     scale_factor: 0.00041271400239192466\n",
       "     add_offset: 283.3381725492488\n",
       "     _FillValue: -32767\n",
       "     missing_value: -32767\n",
       "     units: K\n",
       "     long_name: 2 metre dewpoint temperature\n",
       " unlimited dimensions: \n",
       " current shape = (36, 9, 9)\n",
       " filling on,\n",
       " 't2m': <class 'netCDF4._netCDF4.Variable'>\n",
       " int16 t2m(time, latitude, longitude)\n",
       "     scale_factor: 0.0004625215510458471\n",
       "     add_offset: 289.0934577040682\n",
       "     _FillValue: -32767\n",
       "     missing_value: -32767\n",
       "     units: K\n",
       "     long_name: 2 metre temperature\n",
       " unlimited dimensions: \n",
       " current shape = (36, 9, 9)\n",
       " filling on,\n",
       " 'crr': <class 'netCDF4._netCDF4.Variable'>\n",
       " int16 crr(time, latitude, longitude)\n",
       "     scale_factor: 3.86234605524997e-09\n",
       "     add_offset: 0.00012655363084632053\n",
       "     _FillValue: -32767\n",
       "     missing_value: -32767\n",
       "     units: kg m**-2 s**-1\n",
       "     long_name: Convective rain rate\n",
       " unlimited dimensions: \n",
       " current shape = (36, 9, 9)\n",
       " filling on}"
      ]
     },
     "execution_count": 126,
     "metadata": {},
     "output_type": "execute_result"
    }
   ],
   "source": [
    "band_cds"
   ]
  },
  {
   "cell_type": "code",
   "execution_count": 123,
   "id": "ab40343e",
   "metadata": {},
   "outputs": [],
   "source": [
    "lons_cds = band_cds[\"longitude\"][:]\n",
    "lats_cds = band_cds[\"latitude\"][:]\n",
    "time_cds = band_cds[\"time\"]\n",
    "t2 = band_cds[\"t2m\"][:]\n",
    "u = band_cds[\"u10\"][:]\n",
    "v = band_cds[\"v10\"][:]"
   ]
  },
  {
   "cell_type": "code",
   "execution_count": 196,
   "id": "cf9f3a6b",
   "metadata": {},
   "outputs": [],
   "source": [
    "m = Basemap(projection=\"merc\",llcrnrlon=27.,llcrnrlat=36.,urcrnrlon=30.,urcrnrlat=38.5,resolution=\"l\")"
   ]
  },
  {
   "cell_type": "code",
   "execution_count": 197,
   "id": "fc96bdaf",
   "metadata": {},
   "outputs": [
    {
     "data": {
      "image/png": "[encoded data removed]",
      "text/plain": [
       "<Figure size 432x288 with 2 Axes>"
      ]
     },
     "metadata": {
      "needs_background": "light"
     },
     "output_type": "display_data"
    }
   ],
   "source": [
    "m.drawcoastlines()\n",
    "m.drawstates()\n",
    "m.drawcountries()\n",
    "#m.drawlsmask(land_color='Linen', ocean_color='#CCFFFF') # can use HTML names or codes for colors\n",
    "temp = m.contourf(x,y,t2[30,:,:])\n",
    "cb = m.colorbar(temp,\"bottom\", size=\"5%\", pad=\"2%\")\n",
    "plt.title('2m Temperature')\n",
    "cb.set_label('Temperature (K)')"
   ]
  },
  {
   "cell_type": "code",
   "execution_count": 177,
   "id": "c03fe1ba",
   "metadata": {},
   "outputs": [
    {
     "data": {
      "image/png": "[encoded data removed]",
      "text/plain": [
       "<Figure size 432x288 with 2 Axes>"
      ]
     },
     "metadata": {
      "needs_background": "light"
     },
     "output_type": "display_data"
    }
   ],
   "source": [
    "parallels = np.arange(36,38.5,1.) # make latitude lines ever 5 degrees from 30N-50N\n",
    "meridians = np.arange(27,30,1.) # make longitude lines every 5 degrees from 95W to 70W\n",
    "m.drawparallels(parallels,labels=[1,0,0,0],fontsize=10)\n",
    "m.drawmeridians(meridians,labels=[0,0,0,1],fontsize=10)\n"
   ]
  },
  {
   "cell_type": "code",
   "execution_count": 181,
   "id": "7f2a2a93",
   "metadata": {},
   "outputs": [],
   "source": [
    "#lons,lats= np.meshgrid(lon_cds,lat_cds) # for this dataset, longitude is 0 through 360, so you need to subtract 180 to properly display on map\n",
    "x,y = m(lon_cds,lat_cds)\n"
   ]
  },
  {
   "cell_type": "code",
   "execution_count": 173,
   "id": "96ec36da",
   "metadata": {},
   "outputs": [
    {
     "data": {
      "text/plain": [
       "(9, 9)"
      ]
     },
     "execution_count": 173,
     "metadata": {},
     "output_type": "execute_result"
    }
   ],
   "source": [
    "lat_cds.shape"
   ]
  },
  {
   "cell_type": "code",
   "execution_count": 162,
   "id": "024c6e6d",
   "metadata": {},
   "outputs": [
    {
     "data": {
      "text/plain": [
       "masked_array(\n",
       "  data=[[     0.   ,  27798.719,  55597.438,  83396.16 , 111194.875,\n",
       "         138993.6  , 166792.31 , 194591.03 , 222389.75 ],\n",
       "        [     0.   ,  27798.719,  55597.438,  83396.16 , 111194.875,\n",
       "         138993.6  , 166792.31 , 194591.03 , 222389.75 ],\n",
       "        [     0.   ,  27798.719,  55597.438,  83396.16 , 111194.875,\n",
       "         138993.6  , 166792.31 , 194591.03 , 222389.75 ],\n",
       "        [     0.   ,  27798.719,  55597.438,  83396.16 , 111194.875,\n",
       "         138993.6  , 166792.31 , 194591.03 , 222389.75 ],\n",
       "        [     0.   ,  27798.719,  55597.438,  83396.16 , 111194.875,\n",
       "         138993.6  , 166792.31 , 194591.03 , 222389.75 ],\n",
       "        [     0.   ,  27798.719,  55597.438,  83396.16 , 111194.875,\n",
       "         138993.6  , 166792.31 , 194591.03 , 222389.75 ],\n",
       "        [     0.   ,  27798.719,  55597.438,  83396.16 , 111194.875,\n",
       "         138993.6  , 166792.31 , 194591.03 , 222389.75 ],\n",
       "        [     0.   ,  27798.719,  55597.438,  83396.16 , 111194.875,\n",
       "         138993.6  , 166792.31 , 194591.03 , 222389.75 ],\n",
       "        [     0.   ,  27798.719,  55597.438,  83396.16 , 111194.875,\n",
       "         138993.6  , 166792.31 , 194591.03 , 222389.75 ]],\n",
       "  mask=False,\n",
       "  fill_value=1e+20,\n",
       "  dtype=float32)"
      ]
     },
     "execution_count": 162,
     "metadata": {},
     "output_type": "execute_result"
    }
   ],
   "source": [
    "x[:9,:9]"
   ]
  },
  {
   "cell_type": "code",
   "execution_count": 176,
   "id": "001c3ecb",
   "metadata": {},
   "outputs": [
    {
     "data": {
      "image/png": "[encoded data removed]",
      "text/plain": [
       "<Figure size 432x288 with 2 Axes>"
      ]
     },
     "metadata": {
      "needs_background": "light"
     },
     "output_type": "display_data"
    }
   ],
   "source": [
    "temp = m.contourf(lon_cds,lat_cds,t2[1,:,:])\n",
    "cb = m.colorbar(temp,\"bottom\", size=\"5%\", pad=\"2%\")\n",
    "plt.title('2m Temperature')\n",
    "cb.set_label('Temperature (K)')"
   ]
  },
  {
   "cell_type": "code",
   "execution_count": 49,
   "id": "0e40dea3",
   "metadata": {},
   "outputs": [],
   "source": [
    "BA_dataset = dataloader(['burned_area','fraction_of_burnable_area','fraction_of_observed_area'])"
   ]
  },
  {
   "cell_type": "code",
   "execution_count": 50,
   "id": "23d5b5f0",
   "metadata": {},
   "outputs": [
    {
     "data": {
      "text/plain": [
       "(36, 3, 1, 720, 1440)"
      ]
     },
     "execution_count": 50,
     "metadata": {},
     "output_type": "execute_result"
    }
   ],
   "source": [
    "BA_dataset.shape"
   ]
  },
  {
   "cell_type": "code",
   "execution_count": 3,
   "id": "2eda967c",
   "metadata": {},
   "outputs": [
    {
     "data": {
      "text/plain": [
       "{'burned_area': <class 'netCDF4._netCDF4.Variable'>\n",
       " float32 burned_area(time, lat, lon)\n",
       "     long_name: total burned_area\n",
       "     units: m2\n",
       "     standard_name: burned_area\n",
       "     cell_methods: time: sum\n",
       " unlimited dimensions: \n",
       " current shape = (1, 720, 1440)\n",
       " filling on, default _FillValue of 9.969209968386869e+36 used,\n",
       " 'standard_error': <class 'netCDF4._netCDF4.Variable'>\n",
       " float32 standard_error(time, lat, lon)\n",
       "     long_name: standard error of the estimation of burned area\n",
       "     units: m2\n",
       " unlimited dimensions: \n",
       " current shape = (1, 720, 1440)\n",
       " filling on, default _FillValue of 9.969209968386869e+36 used,\n",
       " 'fraction_of_burnable_area': <class 'netCDF4._netCDF4.Variable'>\n",
       " float32 fraction_of_burnable_area(time, lat, lon)\n",
       "     long_name: fraction of burnable area\n",
       "     units: 1\n",
       "     comment: The fraction of burnable area is the fraction of the cell that corresponds to vegetated land covers that could burn. The land cover classes are those from CCI Land Cover, http://www.esa-landcover-cci.org/\n",
       " unlimited dimensions: \n",
       " current shape = (1, 720, 1440)\n",
       " filling on, default _FillValue of 9.969209968386869e+36 used,\n",
       " 'fraction_of_observed_area': <class 'netCDF4._netCDF4.Variable'>\n",
       " float32 fraction_of_observed_area(time, lat, lon)\n",
       "     long_name: fraction of observed area\n",
       "     units: 1\n",
       "     comment: The fraction of the total burnable area in the cell (fraction_of_burnable_area variable of this file) that was observed during the time interval, and was not marked as unsuitable/not observable. The latter refers to the area where it was not possible to obtain observational burned area information for the whole time interval because of the lack of input data (non-existing data for that location and period).\n",
       " unlimited dimensions: \n",
       " current shape = (1, 720, 1440)\n",
       " filling on, default _FillValue of 9.969209968386869e+36 used,\n",
       " 'number_of_patches': <class 'netCDF4._netCDF4.Variable'>\n",
       " float32 number_of_patches(time, lat, lon)\n",
       "     long_name: number of burn patches\n",
       "     units: 1\n",
       "     comment: Number of contiguous groups of burned pixels.\n",
       " unlimited dimensions: \n",
       " current shape = (1, 720, 1440)\n",
       " filling on, default _FillValue of 9.969209968386869e+36 used,\n",
       " 'burned_area_in_vegetation_class': <class 'netCDF4._netCDF4.Variable'>\n",
       " float32 burned_area_in_vegetation_class(time, vegetation_class, lat, lon)\n",
       "     units: m2\n",
       "     long_name: burned area in vegetation class\n",
       "     cell_methods: time: sum\n",
       "     comment: Burned area by land cover classes; land cover classes are from CCI Land Cover, http://www.esa-landcover-cci.org/\n",
       " unlimited dimensions: \n",
       " current shape = (1, 18, 720, 1440)\n",
       " filling on, default _FillValue of 9.969209968386869e+36 used,\n",
       " 'lat': <class 'netCDF4._netCDF4.Variable'>\n",
       " float64 lat(lat)\n",
       "     units: degree_north\n",
       "     standard_name: latitude\n",
       "     long_name: latitude\n",
       "     bounds: lat_bounds\n",
       "     axis: Y\n",
       " unlimited dimensions: \n",
       " current shape = (720,)\n",
       " filling on, default _FillValue of 9.969209968386869e+36 used,\n",
       " 'lat_bounds': <class 'netCDF4._netCDF4.Variable'>\n",
       " float64 lat_bounds(lat, bounds)\n",
       " unlimited dimensions: \n",
       " current shape = (720, 2)\n",
       " filling on, default _FillValue of 9.969209968386869e+36 used,\n",
       " 'lon': <class 'netCDF4._netCDF4.Variable'>\n",
       " float64 lon(lon)\n",
       "     units: degree_east\n",
       "     standard_name: longitude\n",
       "     long_name: longitude\n",
       "     bounds: lon_bounds\n",
       "     axis: X\n",
       " unlimited dimensions: \n",
       " current shape = (1440,)\n",
       " filling on, default _FillValue of 9.969209968386869e+36 used,\n",
       " 'lon_bounds': <class 'netCDF4._netCDF4.Variable'>\n",
       " float64 lon_bounds(lon, bounds)\n",
       " unlimited dimensions: \n",
       " current shape = (1440, 2)\n",
       " filling on, default _FillValue of 9.969209968386869e+36 used,\n",
       " 'time': <class 'netCDF4._netCDF4.Variable'>\n",
       " float64 time(time)\n",
       "     units: days since 1970-01-01 00:00:00\n",
       "     standard_name: time\n",
       "     long_name: time\n",
       "     bounds: time_bounds\n",
       "     calendar: standard\n",
       "     axis: T\n",
       " unlimited dimensions: \n",
       " current shape = (1,)\n",
       " filling on, default _FillValue of 9.969209968386869e+36 used,\n",
       " 'time_bounds': <class 'netCDF4._netCDF4.Variable'>\n",
       " float64 time_bounds(time, bounds)\n",
       " unlimited dimensions: \n",
       " current shape = (1, 2)\n",
       " filling on, default _FillValue of 9.969209968386869e+36 used,\n",
       " 'vegetation_class': <class 'netCDF4._netCDF4.Variable'>\n",
       " int32 vegetation_class(vegetation_class)\n",
       "     units: 1\n",
       "     long_name: vegetation class number\n",
       " unlimited dimensions: \n",
       " current shape = (18,)\n",
       " filling on, default _FillValue of -2147483647 used,\n",
       " 'vegetation_class_name': <class 'netCDF4._netCDF4.Variable'>\n",
       " |S1 vegetation_class_name(vegetation_class, strlen)\n",
       "     units: 1\n",
       "     long_name: vegetation class name\n",
       " unlimited dimensions: \n",
       " current shape = (18, 150)\n",
       " filling on, default _FillValue of \u0000 used}"
      ]
     },
     "execution_count": 3,
     "metadata": {},
     "output_type": "execute_result"
    }
   ],
   "source": [
    "band_netCDF"
   ]
  },
  {
   "cell_type": "code",
   "execution_count": 4,
   "id": "4b56ab31",
   "metadata": {},
   "outputs": [],
   "source": [
    "netCDF_array = np.array(band_netCDF[\"burned_area\"])[0]"
   ]
  },
  {
   "cell_type": "code",
   "execution_count": 27,
   "id": "e4d5df68",
   "metadata": {},
   "outputs": [
    {
     "data": {
      "text/plain": [
       "array([[18077., 18107.]])"
      ]
     },
     "execution_count": 27,
     "metadata": {},
     "output_type": "execute_result"
    }
   ],
   "source": [
    "np.array(band_netCDF[\"time_bounds\"])"
   ]
  },
  {
   "cell_type": "code",
   "execution_count": 8,
   "id": "0bac0cc4",
   "metadata": {},
   "outputs": [
    {
     "name": "stdout",
     "output_type": "stream",
     "text": [
      "1020899\n"
     ]
    }
   ],
   "source": [
    "n_zeros = np.count_nonzero(netCDF_array==0)\n",
    "print(n_zeros)"
   ]
  },
  {
   "cell_type": "code",
   "execution_count": 10,
   "id": "71c4e1b7",
   "metadata": {},
   "outputs": [],
   "source": [
    "mask = np.where(netCDF_array!=0)"
   ]
  },
  {
   "cell_type": "code",
   "execution_count": 11,
   "id": "fdd961fe",
   "metadata": {},
   "outputs": [
    {
     "data": {
      "text/plain": [
       "array([  53664.,   53664., 1663604., ...,  697640.,  268323.,  107329.],\n",
       "      dtype=float32)"
      ]
     },
     "execution_count": 11,
     "metadata": {},
     "output_type": "execute_result"
    }
   ],
   "source": [
    "netCDF_array[mask]"
   ]
  },
  {
   "cell_type": "code",
   "execution_count": 17,
   "id": "51f2b76e",
   "metadata": {},
   "outputs": [],
   "source": [
    "vegetation_class  = np.array(band_netCDF[\"vegetation_class\"])"
   ]
  },
  {
   "cell_type": "code",
   "execution_count": 19,
   "id": "b4e47169",
   "metadata": {},
   "outputs": [
    {
     "data": {
      "text/plain": [
       "array([-2147483647, -2147483647, -2147483647, -2147483647, -2147483647,\n",
       "       -2147483647, -2147483647, -2147483647, -2147483647, -2147483647,\n",
       "       -2147483647, -2147483647, -2147483647, -2147483647, -2147483647,\n",
       "       -2147483647, -2147483647, -2147483647], dtype=int32)"
      ]
     },
     "execution_count": 19,
     "metadata": {},
     "output_type": "execute_result"
    }
   ],
   "source": [
    "vegetation_class"
   ]
  },
  {
   "cell_type": "code",
   "execution_count": 20,
   "id": "5fa87c0c",
   "metadata": {},
   "outputs": [
    {
     "data": {
      "text/plain": [
       "250000"
      ]
     },
     "execution_count": 20,
     "metadata": {},
     "output_type": "execute_result"
    }
   ],
   "source": [
    "500*500"
   ]
  },
  {
   "cell_type": "code",
   "execution_count": 6,
   "id": "aae5bc74",
   "metadata": {},
   "outputs": [
    {
     "data": {
      "text/plain": [
       "{'longitude': <class 'netCDF4._netCDF4.Variable'>\n",
       " float32 longitude(longitude)\n",
       "     units: degrees_east\n",
       "     long_name: longitude\n",
       " unlimited dimensions: \n",
       " current shape = (9,)\n",
       " filling on, default _FillValue of 9.969209968386869e+36 used,\n",
       " 'latitude': <class 'netCDF4._netCDF4.Variable'>\n",
       " float32 latitude(latitude)\n",
       "     units: degrees_north\n",
       "     long_name: latitude\n",
       " unlimited dimensions: \n",
       " current shape = (9,)\n",
       " filling on, default _FillValue of 9.969209968386869e+36 used,\n",
       " 'time': <class 'netCDF4._netCDF4.Variable'>\n",
       " int32 time(time)\n",
       "     units: hours since 1900-01-01 00:00:00.0\n",
       "     long_name: time\n",
       "     calendar: gregorian\n",
       " unlimited dimensions: \n",
       " current shape = (36,)\n",
       " filling on, default _FillValue of -2147483647 used,\n",
       " 'u10': <class 'netCDF4._netCDF4.Variable'>\n",
       " int16 u10(time, latitude, longitude)\n",
       "     scale_factor: 0.00012622853800198052\n",
       "     add_offset: 2.1092613409922296\n",
       "     _FillValue: -32767\n",
       "     missing_value: -32767\n",
       "     units: m s**-1\n",
       "     long_name: 10 metre U wind component\n",
       " unlimited dimensions: \n",
       " current shape = (36, 9, 9)\n",
       " filling on,\n",
       " 'v10': <class 'netCDF4._netCDF4.Variable'>\n",
       " int16 v10(time, latitude, longitude)\n",
       "     scale_factor: 0.0001568973902105574\n",
       "     add_offset: -1.3571117014111698\n",
       "     _FillValue: -32767\n",
       "     missing_value: -32767\n",
       "     units: m s**-1\n",
       "     long_name: 10 metre V wind component\n",
       " unlimited dimensions: \n",
       " current shape = (36, 9, 9)\n",
       " filling on,\n",
       " 'd2m': <class 'netCDF4._netCDF4.Variable'>\n",
       " int16 d2m(time, latitude, longitude)\n",
       "     scale_factor: 0.00041271400239192466\n",
       "     add_offset: 283.3381725492488\n",
       "     _FillValue: -32767\n",
       "     missing_value: -32767\n",
       "     units: K\n",
       "     long_name: 2 metre dewpoint temperature\n",
       " unlimited dimensions: \n",
       " current shape = (36, 9, 9)\n",
       " filling on,\n",
       " 't2m': <class 'netCDF4._netCDF4.Variable'>\n",
       " int16 t2m(time, latitude, longitude)\n",
       "     scale_factor: 0.0004625215510458471\n",
       "     add_offset: 289.0934577040682\n",
       "     _FillValue: -32767\n",
       "     missing_value: -32767\n",
       "     units: K\n",
       "     long_name: 2 metre temperature\n",
       " unlimited dimensions: \n",
       " current shape = (36, 9, 9)\n",
       " filling on,\n",
       " 'crr': <class 'netCDF4._netCDF4.Variable'>\n",
       " int16 crr(time, latitude, longitude)\n",
       "     scale_factor: 3.86234605524997e-09\n",
       "     add_offset: 0.00012655363084632053\n",
       "     _FillValue: -32767\n",
       "     missing_value: -32767\n",
       "     units: kg m**-2 s**-1\n",
       "     long_name: Convective rain rate\n",
       " unlimited dimensions: \n",
       " current shape = (36, 9, 9)\n",
       " filling on}"
      ]
     },
     "execution_count": 6,
     "metadata": {},
     "output_type": "execute_result"
    }
   ],
   "source": [
    "filepath = \"/home/ibrahim/Desktop/wildfire/download.nc\"\n",
    "ds = nc.Dataset(filepath,'r')\n",
    "ds.variables"
   ]
  },
  {
   "cell_type": "code",
   "execution_count": 3,
   "id": "80648e9d",
   "metadata": {},
   "outputs": [],
   "source": [
    "import cdsapi"
   ]
  },
  {
   "cell_type": "code",
   "execution_count": 2,
   "id": "75bebfc3",
   "metadata": {},
   "outputs": [
    {
     "name": "stdout",
     "output_type": "stream",
     "text": [
      "Collecting cdsapi\n",
      "  Downloading cdsapi-0.5.1.tar.gz (12 kB)\n",
      "Requirement already satisfied: requests>=2.5.0 in /home/ibrahim/anaconda3/lib/python3.9/site-packages (from cdsapi) (2.26.0)\n",
      "Requirement already satisfied: tqdm in /home/ibrahim/anaconda3/lib/python3.9/site-packages (from cdsapi) (4.62.3)\n",
      "Requirement already satisfied: urllib3<1.27,>=1.21.1 in /home/ibrahim/anaconda3/lib/python3.9/site-packages (from requests>=2.5.0->cdsapi) (1.26.7)\n",
      "Requirement already satisfied: certifi>=2017.4.17 in /home/ibrahim/anaconda3/lib/python3.9/site-packages (from requests>=2.5.0->cdsapi) (2021.10.8)\n",
      "Requirement already satisfied: charset-normalizer~=2.0.0 in /home/ibrahim/anaconda3/lib/python3.9/site-packages (from requests>=2.5.0->cdsapi) (2.0.4)\n",
      "Requirement already satisfied: idna<4,>=2.5 in /home/ibrahim/anaconda3/lib/python3.9/site-packages (from requests>=2.5.0->cdsapi) (3.2)\n",
      "Building wheels for collected packages: cdsapi\n",
      "  Building wheel for cdsapi (setup.py) ... \u001b[?25ldone\n",
      "\u001b[?25h  Created wheel for cdsapi: filename=cdsapi-0.5.1-py2.py3-none-any.whl size=11702 sha256=56c677c3bc33abf637431be751ef756eb9d3caebc485b5d72011d07b63b66822\n",
      "  Stored in directory: /home/ibrahim/.cache/pip/wheels/8b/19/90/0f30bd354f0c245f87c1d7639466d05c6b028d3acb4a64cbed\n",
      "Successfully built cdsapi\n",
      "Installing collected packages: cdsapi\n",
      "Successfully installed cdsapi-0.5.1\n"
     ]
    }
   ],
   "source": [
    "!pip install cdsapi"
   ]
  },
  {
   "cell_type": "code",
   "execution_count": 8,
   "id": "e94ca399",
   "metadata": {},
   "outputs": [
    {
     "ename": "NameError",
     "evalue": "name 'name' is not defined",
     "output_type": "error",
     "traceback": [
      "\u001b[0;31m---------------------------------------------------------------------------\u001b[0m",
      "\u001b[0;31mNameError\u001b[0m                                 Traceback (most recent call last)",
      "\u001b[0;32m/tmp/ipykernel_43886/55374920.py\u001b[0m in \u001b[0;36m<module>\u001b[0;34m\u001b[0m\n\u001b[0;32m----> 1\u001b[0;31m \u001b[0ma\u001b[0m \u001b[0;34m=\u001b[0m \u001b[0;34m{\u001b[0m\u001b[0;34m\"name\"\u001b[0m\u001b[0;34m:\u001b[0m\u001b[0;34m{\u001b[0m\u001b[0mname\u001b[0m\u001b[0;34m}\u001b[0m\u001b[0;34m,\u001b[0m\u001b[0;34m\"year\"\u001b[0m\u001b[0;34m:\u001b[0m\u001b[0;34m{\u001b[0m\u001b[0myear\u001b[0m\u001b[0;34m}\u001b[0m\u001b[0;34m}\u001b[0m\u001b[0;34m.\u001b[0m\u001b[0mformat\u001b[0m\u001b[0;34m(\u001b[0m\u001b[0mname\u001b[0m\u001b[0;34m=\u001b[0m\u001b[0;34m\"a\"\u001b[0m\u001b[0;34m,\u001b[0m\u001b[0myear\u001b[0m\u001b[0;34m=\u001b[0m\u001b[0;34m\"b\"\u001b[0m\u001b[0;34m)\u001b[0m\u001b[0;34m\u001b[0m\u001b[0;34m\u001b[0m\u001b[0m\n\u001b[0m\u001b[1;32m      2\u001b[0m \u001b[0mprint\u001b[0m\u001b[0;34m(\u001b[0m\u001b[0ma\u001b[0m\u001b[0;34m)\u001b[0m\u001b[0;34m\u001b[0m\u001b[0;34m\u001b[0m\u001b[0m\n",
      "\u001b[0;31mNameError\u001b[0m: name 'name' is not defined"
     ]
    }
   ],
   "source": [
    "a = {\"name\":{name},\"year\":{year}}.format(name=\"a\",year=\"b\")\n",
    "print(a)"
   ]
  },
  {
   "cell_type": "code",
   "execution_count": null,
   "id": "21ce8834",
   "metadata": {},
   "outputs": [],
   "source": []
  }
 ],
 "metadata": {
  "kernelspec": {
   "display_name": "Python 3 (ipykernel)",
   "language": "python",
   "name": "python3"
  },
  "language_info": {
   "codemirror_mode": {
    "name": "ipython",
    "version": 3
   },
   "file_extension": ".py",
   "mimetype": "text/x-python",
   "name": "python",
   "nbconvert_exporter": "python",
   "pygments_lexer": "ipython3",
   "version": "3.9.7"
  }
 },
 "nbformat": 4,
 "nbformat_minor": 5
}
