{
 "cells": [
  {
   "cell_type": "code",
   "execution_count": 1,
   "id": "ed1b8082",
   "metadata": {},
   "outputs": [],
   "source": [
    "import pandas as pd\n",
    "import numpy as np\n",
    "import netCDF4 as nc\n",
    "from zipfile import ZipFile"
   ]
  },
  {
   "cell_type": "code",
   "execution_count": null,
   "id": "65df8a4d",
   "metadata": {},
   "outputs": [],
   "source": [
    "with ZipFile('Mail3.zip', 'r') as zipObj:\n",
    "   # Extract all the contents of zip file in current directory\n",
    "   zipObj.extractall()"
   ]
  },
  {
   "cell_type": "code",
   "execution_count": 2,
   "id": "06d9b5fd",
   "metadata": {},
   "outputs": [],
   "source": [
    "filepath = \"/home/ibrahim/Desktop/20190701-ESACCI-L4_FIRE-BA-MODIS-fv5.1.1cds.nc\"\n",
    "object_netCDF = nc.Dataset(filepath,'r')\n",
    "band_netCDF = object_netCDF.variables"
   ]
  },
  {
   "cell_type": "code",
   "execution_count": 3,
   "id": "2eda967c",
   "metadata": {},
   "outputs": [
    {
     "data": {
      "text/plain": [
       "{'burned_area': <class 'netCDF4._netCDF4.Variable'>\n",
       " float32 burned_area(time, lat, lon)\n",
       "     long_name: total burned_area\n",
       "     units: m2\n",
       "     standard_name: burned_area\n",
       "     cell_methods: time: sum\n",
       " unlimited dimensions: \n",
       " current shape = (1, 720, 1440)\n",
       " filling on, default _FillValue of 9.969209968386869e+36 used,\n",
       " 'standard_error': <class 'netCDF4._netCDF4.Variable'>\n",
       " float32 standard_error(time, lat, lon)\n",
       "     long_name: standard error of the estimation of burned area\n",
       "     units: m2\n",
       " unlimited dimensions: \n",
       " current shape = (1, 720, 1440)\n",
       " filling on, default _FillValue of 9.969209968386869e+36 used,\n",
       " 'fraction_of_burnable_area': <class 'netCDF4._netCDF4.Variable'>\n",
       " float32 fraction_of_burnable_area(time, lat, lon)\n",
       "     long_name: fraction of burnable area\n",
       "     units: 1\n",
       "     comment: The fraction of burnable area is the fraction of the cell that corresponds to vegetated land covers that could burn. The land cover classes are those from CCI Land Cover, http://www.esa-landcover-cci.org/\n",
       " unlimited dimensions: \n",
       " current shape = (1, 720, 1440)\n",
       " filling on, default _FillValue of 9.969209968386869e+36 used,\n",
       " 'fraction_of_observed_area': <class 'netCDF4._netCDF4.Variable'>\n",
       " float32 fraction_of_observed_area(time, lat, lon)\n",
       "     long_name: fraction of observed area\n",
       "     units: 1\n",
       "     comment: The fraction of the total burnable area in the cell (fraction_of_burnable_area variable of this file) that was observed during the time interval, and was not marked as unsuitable/not observable. The latter refers to the area where it was not possible to obtain observational burned area information for the whole time interval because of the lack of input data (non-existing data for that location and period).\n",
       " unlimited dimensions: \n",
       " current shape = (1, 720, 1440)\n",
       " filling on, default _FillValue of 9.969209968386869e+36 used,\n",
       " 'number_of_patches': <class 'netCDF4._netCDF4.Variable'>\n",
       " float32 number_of_patches(time, lat, lon)\n",
       "     long_name: number of burn patches\n",
       "     units: 1\n",
       "     comment: Number of contiguous groups of burned pixels.\n",
       " unlimited dimensions: \n",
       " current shape = (1, 720, 1440)\n",
       " filling on, default _FillValue of 9.969209968386869e+36 used,\n",
       " 'burned_area_in_vegetation_class': <class 'netCDF4._netCDF4.Variable'>\n",
       " float32 burned_area_in_vegetation_class(time, vegetation_class, lat, lon)\n",
       "     units: m2\n",
       "     long_name: burned area in vegetation class\n",
       "     cell_methods: time: sum\n",
       "     comment: Burned area by land cover classes; land cover classes are from CCI Land Cover, http://www.esa-landcover-cci.org/\n",
       " unlimited dimensions: \n",
       " current shape = (1, 18, 720, 1440)\n",
       " filling on, default _FillValue of 9.969209968386869e+36 used,\n",
       " 'lat': <class 'netCDF4._netCDF4.Variable'>\n",
       " float64 lat(lat)\n",
       "     units: degree_north\n",
       "     standard_name: latitude\n",
       "     long_name: latitude\n",
       "     bounds: lat_bounds\n",
       "     axis: Y\n",
       " unlimited dimensions: \n",
       " current shape = (720,)\n",
       " filling on, default _FillValue of 9.969209968386869e+36 used,\n",
       " 'lat_bounds': <class 'netCDF4._netCDF4.Variable'>\n",
       " float64 lat_bounds(lat, bounds)\n",
       " unlimited dimensions: \n",
       " current shape = (720, 2)\n",
       " filling on, default _FillValue of 9.969209968386869e+36 used,\n",
       " 'lon': <class 'netCDF4._netCDF4.Variable'>\n",
       " float64 lon(lon)\n",
       "     units: degree_east\n",
       "     standard_name: longitude\n",
       "     long_name: longitude\n",
       "     bounds: lon_bounds\n",
       "     axis: X\n",
       " unlimited dimensions: \n",
       " current shape = (1440,)\n",
       " filling on, default _FillValue of 9.969209968386869e+36 used,\n",
       " 'lon_bounds': <class 'netCDF4._netCDF4.Variable'>\n",
       " float64 lon_bounds(lon, bounds)\n",
       " unlimited dimensions: \n",
       " current shape = (1440, 2)\n",
       " filling on, default _FillValue of 9.969209968386869e+36 used,\n",
       " 'time': <class 'netCDF4._netCDF4.Variable'>\n",
       " float64 time(time)\n",
       "     units: days since 1970-01-01 00:00:00\n",
       "     standard_name: time\n",
       "     long_name: time\n",
       "     bounds: time_bounds\n",
       "     calendar: standard\n",
       "     axis: T\n",
       " unlimited dimensions: \n",
       " current shape = (1,)\n",
       " filling on, default _FillValue of 9.969209968386869e+36 used,\n",
       " 'time_bounds': <class 'netCDF4._netCDF4.Variable'>\n",
       " float64 time_bounds(time, bounds)\n",
       " unlimited dimensions: \n",
       " current shape = (1, 2)\n",
       " filling on, default _FillValue of 9.969209968386869e+36 used,\n",
       " 'vegetation_class': <class 'netCDF4._netCDF4.Variable'>\n",
       " int32 vegetation_class(vegetation_class)\n",
       "     units: 1\n",
       "     long_name: vegetation class number\n",
       " unlimited dimensions: \n",
       " current shape = (18,)\n",
       " filling on, default _FillValue of -2147483647 used,\n",
       " 'vegetation_class_name': <class 'netCDF4._netCDF4.Variable'>\n",
       " |S1 vegetation_class_name(vegetation_class, strlen)\n",
       "     units: 1\n",
       "     long_name: vegetation class name\n",
       " unlimited dimensions: \n",
       " current shape = (18, 150)\n",
       " filling on, default _FillValue of \u0000 used}"
      ]
     },
     "execution_count": 3,
     "metadata": {},
     "output_type": "execute_result"
    }
   ],
   "source": [
    "band_netCDF"
   ]
  },
  {
   "cell_type": "code",
   "execution_count": 4,
   "id": "4b56ab31",
   "metadata": {},
   "outputs": [],
   "source": [
    "netCDF_array = np.array(band_netCDF[\"burned_area\"])[0]"
   ]
  },
  {
   "cell_type": "code",
   "execution_count": 27,
   "id": "e4d5df68",
   "metadata": {},
   "outputs": [
    {
     "data": {
      "text/plain": [
       "array([[18077., 18107.]])"
      ]
     },
     "execution_count": 27,
     "metadata": {},
     "output_type": "execute_result"
    }
   ],
   "source": [
    "np.array(band_netCDF[\"time_bounds\"])"
   ]
  },
  {
   "cell_type": "code",
   "execution_count": 8,
   "id": "0bac0cc4",
   "metadata": {},
   "outputs": [
    {
     "name": "stdout",
     "output_type": "stream",
     "text": [
      "1020899\n"
     ]
    }
   ],
   "source": [
    "n_zeros = np.count_nonzero(netCDF_array==0)\n",
    "print(n_zeros)"
   ]
  },
  {
   "cell_type": "code",
   "execution_count": 10,
   "id": "71c4e1b7",
   "metadata": {},
   "outputs": [],
   "source": [
    "mask = np.where(netCDF_array!=0)"
   ]
  },
  {
   "cell_type": "code",
   "execution_count": 11,
   "id": "fdd961fe",
   "metadata": {},
   "outputs": [
    {
     "data": {
      "text/plain": [
       "array([  53664.,   53664., 1663604., ...,  697640.,  268323.,  107329.],\n",
       "      dtype=float32)"
      ]
     },
     "execution_count": 11,
     "metadata": {},
     "output_type": "execute_result"
    }
   ],
   "source": [
    "netCDF_array[mask]"
   ]
  },
  {
   "cell_type": "code",
   "execution_count": 17,
   "id": "51f2b76e",
   "metadata": {},
   "outputs": [],
   "source": [
    "vegetation_class  = np.array(band_netCDF[\"vegetation_class\"])"
   ]
  },
  {
   "cell_type": "code",
   "execution_count": 19,
   "id": "b4e47169",
   "metadata": {},
   "outputs": [
    {
     "data": {
      "text/plain": [
       "array([-2147483647, -2147483647, -2147483647, -2147483647, -2147483647,\n",
       "       -2147483647, -2147483647, -2147483647, -2147483647, -2147483647,\n",
       "       -2147483647, -2147483647, -2147483647, -2147483647, -2147483647,\n",
       "       -2147483647, -2147483647, -2147483647], dtype=int32)"
      ]
     },
     "execution_count": 19,
     "metadata": {},
     "output_type": "execute_result"
    }
   ],
   "source": [
    "vegetation_class"
   ]
  },
  {
   "cell_type": "code",
   "execution_count": 20,
   "id": "5fa87c0c",
   "metadata": {},
   "outputs": [
    {
     "data": {
      "text/plain": [
       "250000"
      ]
     },
     "execution_count": 20,
     "metadata": {},
     "output_type": "execute_result"
    }
   ],
   "source": [
    "500*500"
   ]
  },
  {
   "cell_type": "code",
   "execution_count": 6,
   "id": "aae5bc74",
   "metadata": {},
   "outputs": [
    {
     "data": {
      "text/plain": [
       "{'longitude': <class 'netCDF4._netCDF4.Variable'>\n",
       " float32 longitude(longitude)\n",
       "     units: degrees_east\n",
       "     long_name: longitude\n",
       " unlimited dimensions: \n",
       " current shape = (9,)\n",
       " filling on, default _FillValue of 9.969209968386869e+36 used,\n",
       " 'latitude': <class 'netCDF4._netCDF4.Variable'>\n",
       " float32 latitude(latitude)\n",
       "     units: degrees_north\n",
       "     long_name: latitude\n",
       " unlimited dimensions: \n",
       " current shape = (9,)\n",
       " filling on, default _FillValue of 9.969209968386869e+36 used,\n",
       " 'time': <class 'netCDF4._netCDF4.Variable'>\n",
       " int32 time(time)\n",
       "     units: hours since 1900-01-01 00:00:00.0\n",
       "     long_name: time\n",
       "     calendar: gregorian\n",
       " unlimited dimensions: \n",
       " current shape = (36,)\n",
       " filling on, default _FillValue of -2147483647 used,\n",
       " 'u10': <class 'netCDF4._netCDF4.Variable'>\n",
       " int16 u10(time, latitude, longitude)\n",
       "     scale_factor: 0.00012622853800198052\n",
       "     add_offset: 2.1092613409922296\n",
       "     _FillValue: -32767\n",
       "     missing_value: -32767\n",
       "     units: m s**-1\n",
       "     long_name: 10 metre U wind component\n",
       " unlimited dimensions: \n",
       " current shape = (36, 9, 9)\n",
       " filling on,\n",
       " 'v10': <class 'netCDF4._netCDF4.Variable'>\n",
       " int16 v10(time, latitude, longitude)\n",
       "     scale_factor: 0.0001568973902105574\n",
       "     add_offset: -1.3571117014111698\n",
       "     _FillValue: -32767\n",
       "     missing_value: -32767\n",
       "     units: m s**-1\n",
       "     long_name: 10 metre V wind component\n",
       " unlimited dimensions: \n",
       " current shape = (36, 9, 9)\n",
       " filling on,\n",
       " 'd2m': <class 'netCDF4._netCDF4.Variable'>\n",
       " int16 d2m(time, latitude, longitude)\n",
       "     scale_factor: 0.00041271400239192466\n",
       "     add_offset: 283.3381725492488\n",
       "     _FillValue: -32767\n",
       "     missing_value: -32767\n",
       "     units: K\n",
       "     long_name: 2 metre dewpoint temperature\n",
       " unlimited dimensions: \n",
       " current shape = (36, 9, 9)\n",
       " filling on,\n",
       " 't2m': <class 'netCDF4._netCDF4.Variable'>\n",
       " int16 t2m(time, latitude, longitude)\n",
       "     scale_factor: 0.0004625215510458471\n",
       "     add_offset: 289.0934577040682\n",
       "     _FillValue: -32767\n",
       "     missing_value: -32767\n",
       "     units: K\n",
       "     long_name: 2 metre temperature\n",
       " unlimited dimensions: \n",
       " current shape = (36, 9, 9)\n",
       " filling on,\n",
       " 'crr': <class 'netCDF4._netCDF4.Variable'>\n",
       " int16 crr(time, latitude, longitude)\n",
       "     scale_factor: 3.86234605524997e-09\n",
       "     add_offset: 0.00012655363084632053\n",
       "     _FillValue: -32767\n",
       "     missing_value: -32767\n",
       "     units: kg m**-2 s**-1\n",
       "     long_name: Convective rain rate\n",
       " unlimited dimensions: \n",
       " current shape = (36, 9, 9)\n",
       " filling on}"
      ]
     },
     "execution_count": 6,
     "metadata": {},
     "output_type": "execute_result"
    }
   ],
   "source": [
    "filepath = \"/home/ibrahim/Desktop/wildfire/download.nc\"\n",
    "ds = nc.Dataset(filepath,'r')\n",
    "ds.variables"
   ]
  },
  {
   "cell_type": "code",
   "execution_count": 3,
   "id": "80648e9d",
   "metadata": {},
   "outputs": [],
   "source": [
    "import cdsapi"
   ]
  },
  {
   "cell_type": "code",
   "execution_count": 2,
   "id": "75bebfc3",
   "metadata": {},
   "outputs": [
    {
     "name": "stdout",
     "output_type": "stream",
     "text": [
      "Collecting cdsapi\n",
      "  Downloading cdsapi-0.5.1.tar.gz (12 kB)\n",
      "Requirement already satisfied: requests>=2.5.0 in /home/ibrahim/anaconda3/lib/python3.9/site-packages (from cdsapi) (2.26.0)\n",
      "Requirement already satisfied: tqdm in /home/ibrahim/anaconda3/lib/python3.9/site-packages (from cdsapi) (4.62.3)\n",
      "Requirement already satisfied: urllib3<1.27,>=1.21.1 in /home/ibrahim/anaconda3/lib/python3.9/site-packages (from requests>=2.5.0->cdsapi) (1.26.7)\n",
      "Requirement already satisfied: certifi>=2017.4.17 in /home/ibrahim/anaconda3/lib/python3.9/site-packages (from requests>=2.5.0->cdsapi) (2021.10.8)\n",
      "Requirement already satisfied: charset-normalizer~=2.0.0 in /home/ibrahim/anaconda3/lib/python3.9/site-packages (from requests>=2.5.0->cdsapi) (2.0.4)\n",
      "Requirement already satisfied: idna<4,>=2.5 in /home/ibrahim/anaconda3/lib/python3.9/site-packages (from requests>=2.5.0->cdsapi) (3.2)\n",
      "Building wheels for collected packages: cdsapi\n",
      "  Building wheel for cdsapi (setup.py) ... \u001b[?25ldone\n",
      "\u001b[?25h  Created wheel for cdsapi: filename=cdsapi-0.5.1-py2.py3-none-any.whl size=11702 sha256=56c677c3bc33abf637431be751ef756eb9d3caebc485b5d72011d07b63b66822\n",
      "  Stored in directory: /home/ibrahim/.cache/pip/wheels/8b/19/90/0f30bd354f0c245f87c1d7639466d05c6b028d3acb4a64cbed\n",
      "Successfully built cdsapi\n",
      "Installing collected packages: cdsapi\n",
      "Successfully installed cdsapi-0.5.1\n"
     ]
    }
   ],
   "source": [
    "!pip install cdsapi"
   ]
  },
  {
   "cell_type": "code",
   "execution_count": 8,
   "id": "e94ca399",
   "metadata": {},
   "outputs": [
    {
     "ename": "NameError",
     "evalue": "name 'name' is not defined",
     "output_type": "error",
     "traceback": [
      "\u001b[0;31m---------------------------------------------------------------------------\u001b[0m",
      "\u001b[0;31mNameError\u001b[0m                                 Traceback (most recent call last)",
      "\u001b[0;32m/tmp/ipykernel_43886/55374920.py\u001b[0m in \u001b[0;36m<module>\u001b[0;34m\u001b[0m\n\u001b[0;32m----> 1\u001b[0;31m \u001b[0ma\u001b[0m \u001b[0;34m=\u001b[0m \u001b[0;34m{\u001b[0m\u001b[0;34m\"name\"\u001b[0m\u001b[0;34m:\u001b[0m\u001b[0;34m{\u001b[0m\u001b[0mname\u001b[0m\u001b[0;34m}\u001b[0m\u001b[0;34m,\u001b[0m\u001b[0;34m\"year\"\u001b[0m\u001b[0;34m:\u001b[0m\u001b[0;34m{\u001b[0m\u001b[0myear\u001b[0m\u001b[0;34m}\u001b[0m\u001b[0;34m}\u001b[0m\u001b[0;34m.\u001b[0m\u001b[0mformat\u001b[0m\u001b[0;34m(\u001b[0m\u001b[0mname\u001b[0m\u001b[0;34m=\u001b[0m\u001b[0;34m\"a\"\u001b[0m\u001b[0;34m,\u001b[0m\u001b[0myear\u001b[0m\u001b[0;34m=\u001b[0m\u001b[0;34m\"b\"\u001b[0m\u001b[0;34m)\u001b[0m\u001b[0;34m\u001b[0m\u001b[0;34m\u001b[0m\u001b[0m\n\u001b[0m\u001b[1;32m      2\u001b[0m \u001b[0mprint\u001b[0m\u001b[0;34m(\u001b[0m\u001b[0ma\u001b[0m\u001b[0;34m)\u001b[0m\u001b[0;34m\u001b[0m\u001b[0;34m\u001b[0m\u001b[0m\n",
      "\u001b[0;31mNameError\u001b[0m: name 'name' is not defined"
     ]
    }
   ],
   "source": [
    "a = {\"name\":{name},\"year\":{year}}.format(name=\"a\",year=\"b\")\n",
    "print(a)"
   ]
  },
  {
   "cell_type": "code",
   "execution_count": null,
   "id": "21ce8834",
   "metadata": {},
   "outputs": [],
   "source": []
  }
 ],
 "metadata": {
  "kernelspec": {
   "display_name": "Python 3 (ipykernel)",
   "language": "python",
   "name": "python3"
  },
  "language_info": {
   "codemirror_mode": {
    "name": "ipython",
    "version": 3
   },
   "file_extension": ".py",
   "mimetype": "text/x-python",
   "name": "python",
   "nbconvert_exporter": "python",
   "pygments_lexer": "ipython3",
   "version": "3.9.7"
  }
 },
 "nbformat": 4,
 "nbformat_minor": 5
}
